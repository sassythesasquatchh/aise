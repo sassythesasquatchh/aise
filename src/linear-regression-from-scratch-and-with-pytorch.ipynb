{
 "cells": [
  {
   "cell_type": "markdown",
   "metadata": {},
   "source": [
    "## Linear Regression with PyTorch\n",
    "\n",
    "#### Part 2 of \"PyTorch: Zero to GANs\"\n",
    "\n",
    "*This post is the second in a series of tutorials on building deep learning models with PyTorch, an open source neural networks library developed and maintained by Facebook. Check out the full series:*\n",
    "\n",
    "1. [PyTorch Basics: Tensors Operations](https://www.kaggle.com/erdemuysal/pytorch-tensor-operations-for-beginners)\n",
    "2. [Linear Regression from Scatch and with PyTorch using Gradient Descent](https://www.kaggle.com/erdemuysal/linear-regression-from-scratch-and-with-pytorch/notebook)\n",
    "\n",
    "Continuing where the [previous tutorial](https://www.kaggle.com/erdemuysal/pytorch-tensor-operations-for-beginners) left off, we'll discuss one of the foundational  algorithms of machine learning in this post: *Linear regression*. We'll create a model that predicts crop yields for apples and oranges (*target variables*) by looking at the average temperature, rainfall and humidity (*input variables or features*) in a region. Our data is called California Housing Prices.\n",
    "\n",
    "In a linear regression model, each target variable is estimated to be a weighted sum of the input variables, offset by some constant, known as a bias :\n",
    "```\n",
    "house_price  = w11 * location + w12 * number_of_rooms + w13 * square_feet + b1\n",
    "```\n",
    "Visually, it means that the house_price is a linear or planar function of location, number_of_rooms and square_feet:\n",
    "\n",
    "The *learning* part of linear regression is to figure out a set of weights `w11, w12,... w23, b1 & b2` by looking at the training data, to make accurate predictions for new data (i.e. to predict the yields for apples and oranges in a new region using the average temperature, rainfall and humidity). This is done by adjusting the weights slightly many times to make better predictions, using an optimization technique called *gradient descent*."
   ]
  },
  {
   "cell_type": "markdown",
   "metadata": {},
   "source": [
    "## Imports and Definitions"
   ]
  },
  {
   "cell_type": "markdown",
   "metadata": {},
   "source": [
    "We begin by importing necessery libraries and frameworks:"
   ]
  },
  {
   "cell_type": "code",
   "execution_count": 1,
   "metadata": {},
   "outputs": [],
   "source": [
    "# Uncomment the command below if Numpy or PyTorch is not installed\n",
    "# !conda install numpy pytorch cpuonly -c pytorch -y"
   ]
  },
  {
   "cell_type": "code",
   "execution_count": 1,
   "metadata": {},
   "outputs": [],
   "source": [
    "import numpy as np\n",
    "import pandas as pd\n",
    "import matplotlib.pyplot as plt\n",
    "import torch\n",
    "import torch.nn as nn\n",
    "import torch.nn.functional as F\n",
    "import torchvision\n",
    "from torch.utils.data import DataLoader, TensorDataset, random_split"
   ]
  },
  {
   "cell_type": "code",
   "execution_count": 5,
   "metadata": {},
   "outputs": [],
   "source": [
    "# Hyperparameters\n",
    "split_rate = 0.2\n",
    "batch_size = 64\n",
    "learning_rate = 1e-4\n",
    "\n",
    "# Other constants\n",
    "DATA_FILENAME = '../data/Task3/housing.csv'\n",
    "TARGET_COLUMN = 'median_house_value'  # Target to predict"
   ]
  },
  {
   "cell_type": "markdown",
   "metadata": {},
   "source": [
    "## Data Preparation"
   ]
  },
  {
   "cell_type": "markdown",
   "metadata": {},
   "source": [
    "Let us first load the dataset as Pandas data frame."
   ]
  },
  {
   "cell_type": "code",
   "execution_count": 6,
   "metadata": {},
   "outputs": [
    {
     "data": {
      "text/html": [
       "<div>\n",
       "<style scoped>\n",
       "    .dataframe tbody tr th:only-of-type {\n",
       "        vertical-align: middle;\n",
       "    }\n",
       "\n",
       "    .dataframe tbody tr th {\n",
       "        vertical-align: top;\n",
       "    }\n",
       "\n",
       "    .dataframe thead th {\n",
       "        text-align: right;\n",
       "    }\n",
       "</style>\n",
       "<table border=\"1\" class=\"dataframe\">\n",
       "  <thead>\n",
       "    <tr style=\"text-align: right;\">\n",
       "      <th></th>\n",
       "      <th>longitude</th>\n",
       "      <th>latitude</th>\n",
       "      <th>housing_median_age</th>\n",
       "      <th>total_rooms</th>\n",
       "      <th>total_bedrooms</th>\n",
       "      <th>population</th>\n",
       "      <th>households</th>\n",
       "      <th>median_income</th>\n",
       "      <th>median_house_value</th>\n",
       "      <th>ocean_proximity</th>\n",
       "    </tr>\n",
       "  </thead>\n",
       "  <tbody>\n",
       "    <tr>\n",
       "      <th>0</th>\n",
       "      <td>-122.23</td>\n",
       "      <td>37.88</td>\n",
       "      <td>41.0</td>\n",
       "      <td>880.0</td>\n",
       "      <td>129.0</td>\n",
       "      <td>322.0</td>\n",
       "      <td>126.0</td>\n",
       "      <td>8.3252</td>\n",
       "      <td>452600.0</td>\n",
       "      <td>NEAR BAY</td>\n",
       "    </tr>\n",
       "    <tr>\n",
       "      <th>1</th>\n",
       "      <td>-122.22</td>\n",
       "      <td>37.86</td>\n",
       "      <td>21.0</td>\n",
       "      <td>7099.0</td>\n",
       "      <td>1106.0</td>\n",
       "      <td>2401.0</td>\n",
       "      <td>1138.0</td>\n",
       "      <td>8.3014</td>\n",
       "      <td>358500.0</td>\n",
       "      <td>NEAR BAY</td>\n",
       "    </tr>\n",
       "    <tr>\n",
       "      <th>2</th>\n",
       "      <td>-122.24</td>\n",
       "      <td>37.85</td>\n",
       "      <td>52.0</td>\n",
       "      <td>1467.0</td>\n",
       "      <td>190.0</td>\n",
       "      <td>496.0</td>\n",
       "      <td>177.0</td>\n",
       "      <td>7.2574</td>\n",
       "      <td>352100.0</td>\n",
       "      <td>NEAR BAY</td>\n",
       "    </tr>\n",
       "    <tr>\n",
       "      <th>3</th>\n",
       "      <td>-122.25</td>\n",
       "      <td>37.85</td>\n",
       "      <td>52.0</td>\n",
       "      <td>1274.0</td>\n",
       "      <td>235.0</td>\n",
       "      <td>558.0</td>\n",
       "      <td>219.0</td>\n",
       "      <td>5.6431</td>\n",
       "      <td>341300.0</td>\n",
       "      <td>NEAR BAY</td>\n",
       "    </tr>\n",
       "    <tr>\n",
       "      <th>4</th>\n",
       "      <td>-122.25</td>\n",
       "      <td>37.85</td>\n",
       "      <td>52.0</td>\n",
       "      <td>1627.0</td>\n",
       "      <td>280.0</td>\n",
       "      <td>565.0</td>\n",
       "      <td>259.0</td>\n",
       "      <td>3.8462</td>\n",
       "      <td>342200.0</td>\n",
       "      <td>NEAR BAY</td>\n",
       "    </tr>\n",
       "  </tbody>\n",
       "</table>\n",
       "</div>"
      ],
      "text/plain": [
       "   longitude  latitude  housing_median_age  total_rooms  total_bedrooms  \\\n",
       "0    -122.23     37.88                41.0        880.0           129.0   \n",
       "1    -122.22     37.86                21.0       7099.0          1106.0   \n",
       "2    -122.24     37.85                52.0       1467.0           190.0   \n",
       "3    -122.25     37.85                52.0       1274.0           235.0   \n",
       "4    -122.25     37.85                52.0       1627.0           280.0   \n",
       "\n",
       "   population  households  median_income  median_house_value ocean_proximity  \n",
       "0       322.0       126.0         8.3252            452600.0        NEAR BAY  \n",
       "1      2401.0      1138.0         8.3014            358500.0        NEAR BAY  \n",
       "2       496.0       177.0         7.2574            352100.0        NEAR BAY  \n",
       "3       558.0       219.0         5.6431            341300.0        NEAR BAY  \n",
       "4       565.0       259.0         3.8462            342200.0        NEAR BAY  "
      ]
     },
     "execution_count": 6,
     "metadata": {},
     "output_type": "execute_result"
    }
   ],
   "source": [
    "df = pd.read_csv(DATA_FILENAME)\n",
    "df.head()  # Print first 5 row of the data frame, 5 is default value but desired value can be passed as an argument"
   ]
  },
  {
   "cell_type": "code",
   "execution_count": 7,
   "metadata": {},
   "outputs": [
    {
     "data": {
      "text/plain": [
       "(Index(['longitude', 'latitude', 'housing_median_age', 'total_rooms',\n",
       "        'total_bedrooms', 'population', 'households', 'median_income',\n",
       "        'median_house_value', 'ocean_proximity'],\n",
       "       dtype='object'),\n",
       " 10)"
      ]
     },
     "execution_count": 7,
     "metadata": {},
     "output_type": "execute_result"
    }
   ],
   "source": [
    "df.columns, len(df.columns)"
   ]
  },
  {
   "cell_type": "markdown",
   "metadata": {},
   "source": [
    "For appropriate predictions, we should remove some of the entries like infinite, nan and non-numerical values."
   ]
  },
  {
   "cell_type": "code",
   "execution_count": 8,
   "metadata": {
    "_kg_hide-input": false,
    "_kg_hide-output": false
   },
   "outputs": [],
   "source": [
    "df.replace([np.inf, -np.inf], np.nan)  # Replace inf values with NaNs\n",
    "df.dropna(inplace=True)  # Drop NaN values from the dataframe"
   ]
  },
  {
   "cell_type": "code",
   "execution_count": 9,
   "metadata": {},
   "outputs": [
    {
     "data": {
      "text/html": [
       "<div>\n",
       "<style scoped>\n",
       "    .dataframe tbody tr th:only-of-type {\n",
       "        vertical-align: middle;\n",
       "    }\n",
       "\n",
       "    .dataframe tbody tr th {\n",
       "        vertical-align: top;\n",
       "    }\n",
       "\n",
       "    .dataframe thead th {\n",
       "        text-align: right;\n",
       "    }\n",
       "</style>\n",
       "<table border=\"1\" class=\"dataframe\">\n",
       "  <thead>\n",
       "    <tr style=\"text-align: right;\">\n",
       "      <th></th>\n",
       "      <th>longitude</th>\n",
       "      <th>latitude</th>\n",
       "      <th>housing_median_age</th>\n",
       "      <th>total_rooms</th>\n",
       "      <th>total_bedrooms</th>\n",
       "      <th>population</th>\n",
       "      <th>households</th>\n",
       "      <th>median_income</th>\n",
       "      <th>median_house_value</th>\n",
       "    </tr>\n",
       "  </thead>\n",
       "  <tbody>\n",
       "    <tr>\n",
       "      <th>count</th>\n",
       "      <td>20433.000000</td>\n",
       "      <td>20433.000000</td>\n",
       "      <td>20433.000000</td>\n",
       "      <td>20433.000000</td>\n",
       "      <td>20433.000000</td>\n",
       "      <td>20433.000000</td>\n",
       "      <td>20433.000000</td>\n",
       "      <td>20433.000000</td>\n",
       "      <td>20433.000000</td>\n",
       "    </tr>\n",
       "    <tr>\n",
       "      <th>mean</th>\n",
       "      <td>-119.570689</td>\n",
       "      <td>35.633221</td>\n",
       "      <td>28.633094</td>\n",
       "      <td>2636.504233</td>\n",
       "      <td>537.870553</td>\n",
       "      <td>1424.946949</td>\n",
       "      <td>499.433465</td>\n",
       "      <td>3.871162</td>\n",
       "      <td>206864.413155</td>\n",
       "    </tr>\n",
       "    <tr>\n",
       "      <th>std</th>\n",
       "      <td>2.003578</td>\n",
       "      <td>2.136348</td>\n",
       "      <td>12.591805</td>\n",
       "      <td>2185.269567</td>\n",
       "      <td>421.385070</td>\n",
       "      <td>1133.208490</td>\n",
       "      <td>382.299226</td>\n",
       "      <td>1.899291</td>\n",
       "      <td>115435.667099</td>\n",
       "    </tr>\n",
       "    <tr>\n",
       "      <th>min</th>\n",
       "      <td>-124.350000</td>\n",
       "      <td>32.540000</td>\n",
       "      <td>1.000000</td>\n",
       "      <td>2.000000</td>\n",
       "      <td>1.000000</td>\n",
       "      <td>3.000000</td>\n",
       "      <td>1.000000</td>\n",
       "      <td>0.499900</td>\n",
       "      <td>14999.000000</td>\n",
       "    </tr>\n",
       "    <tr>\n",
       "      <th>25%</th>\n",
       "      <td>-121.800000</td>\n",
       "      <td>33.930000</td>\n",
       "      <td>18.000000</td>\n",
       "      <td>1450.000000</td>\n",
       "      <td>296.000000</td>\n",
       "      <td>787.000000</td>\n",
       "      <td>280.000000</td>\n",
       "      <td>2.563700</td>\n",
       "      <td>119500.000000</td>\n",
       "    </tr>\n",
       "    <tr>\n",
       "      <th>50%</th>\n",
       "      <td>-118.490000</td>\n",
       "      <td>34.260000</td>\n",
       "      <td>29.000000</td>\n",
       "      <td>2127.000000</td>\n",
       "      <td>435.000000</td>\n",
       "      <td>1166.000000</td>\n",
       "      <td>409.000000</td>\n",
       "      <td>3.536500</td>\n",
       "      <td>179700.000000</td>\n",
       "    </tr>\n",
       "    <tr>\n",
       "      <th>75%</th>\n",
       "      <td>-118.010000</td>\n",
       "      <td>37.720000</td>\n",
       "      <td>37.000000</td>\n",
       "      <td>3143.000000</td>\n",
       "      <td>647.000000</td>\n",
       "      <td>1722.000000</td>\n",
       "      <td>604.000000</td>\n",
       "      <td>4.744000</td>\n",
       "      <td>264700.000000</td>\n",
       "    </tr>\n",
       "    <tr>\n",
       "      <th>max</th>\n",
       "      <td>-114.310000</td>\n",
       "      <td>41.950000</td>\n",
       "      <td>52.000000</td>\n",
       "      <td>39320.000000</td>\n",
       "      <td>6445.000000</td>\n",
       "      <td>35682.000000</td>\n",
       "      <td>6082.000000</td>\n",
       "      <td>15.000100</td>\n",
       "      <td>500001.000000</td>\n",
       "    </tr>\n",
       "  </tbody>\n",
       "</table>\n",
       "</div>"
      ],
      "text/plain": [
       "          longitude      latitude  housing_median_age   total_rooms  \\\n",
       "count  20433.000000  20433.000000        20433.000000  20433.000000   \n",
       "mean    -119.570689     35.633221           28.633094   2636.504233   \n",
       "std        2.003578      2.136348           12.591805   2185.269567   \n",
       "min     -124.350000     32.540000            1.000000      2.000000   \n",
       "25%     -121.800000     33.930000           18.000000   1450.000000   \n",
       "50%     -118.490000     34.260000           29.000000   2127.000000   \n",
       "75%     -118.010000     37.720000           37.000000   3143.000000   \n",
       "max     -114.310000     41.950000           52.000000  39320.000000   \n",
       "\n",
       "       total_bedrooms    population    households  median_income  \\\n",
       "count    20433.000000  20433.000000  20433.000000   20433.000000   \n",
       "mean       537.870553   1424.946949    499.433465       3.871162   \n",
       "std        421.385070   1133.208490    382.299226       1.899291   \n",
       "min          1.000000      3.000000      1.000000       0.499900   \n",
       "25%        296.000000    787.000000    280.000000       2.563700   \n",
       "50%        435.000000   1166.000000    409.000000       3.536500   \n",
       "75%        647.000000   1722.000000    604.000000       4.744000   \n",
       "max       6445.000000  35682.000000   6082.000000      15.000100   \n",
       "\n",
       "       median_house_value  \n",
       "count        20433.000000  \n",
       "mean        206864.413155  \n",
       "std         115435.667099  \n",
       "min          14999.000000  \n",
       "25%         119500.000000  \n",
       "50%         179700.000000  \n",
       "75%         264700.000000  \n",
       "max         500001.000000  "
      ]
     },
     "execution_count": 9,
     "metadata": {},
     "output_type": "execute_result"
    }
   ],
   "source": [
    "df.describe()"
   ]
  },
  {
   "cell_type": "code",
   "execution_count": 10,
   "metadata": {},
   "outputs": [
    {
     "name": "stdout",
     "output_type": "stream",
     "text": [
      "<class 'pandas.core.frame.DataFrame'>\n",
      "Index: 20433 entries, 0 to 20639\n",
      "Data columns (total 10 columns):\n",
      " #   Column              Non-Null Count  Dtype  \n",
      "---  ------              --------------  -----  \n",
      " 0   longitude           20433 non-null  float64\n",
      " 1   latitude            20433 non-null  float64\n",
      " 2   housing_median_age  20433 non-null  float64\n",
      " 3   total_rooms         20433 non-null  float64\n",
      " 4   total_bedrooms      20433 non-null  float64\n",
      " 5   population          20433 non-null  float64\n",
      " 6   households          20433 non-null  float64\n",
      " 7   median_income       20433 non-null  float64\n",
      " 8   median_house_value  20433 non-null  float64\n",
      " 9   ocean_proximity     20433 non-null  object \n",
      "dtypes: float64(9), object(1)\n",
      "memory usage: 1.7+ MB\n"
     ]
    }
   ],
   "source": [
    "df.info()"
   ]
  },
  {
   "cell_type": "markdown",
   "metadata": {},
   "source": [
    "The training data can be represented using two matrices: `inputs` and `targets`, each with one row per observation, and one column per variable."
   ]
  },
  {
   "cell_type": "code",
   "execution_count": 11,
   "metadata": {},
   "outputs": [
    {
     "data": {
      "text/plain": [
       "((20433, 8), (20433, 1))"
      ]
     },
     "execution_count": 11,
     "metadata": {},
     "output_type": "execute_result"
    }
   ],
   "source": [
    "# Inputs: (longitude, latitude, housing_median_age, total_rooms, total_bedrooms, population, households, median_income)\n",
    "# Convert from Pandas dataframe to numpy arrays\n",
    "inputs = df.drop([TARGET_COLUMN, 'ocean_proximity'], axis=1).to_numpy()  # Drop TARGET_COLUMN since it is target, can not be used as input\n",
    "targets = df[[TARGET_COLUMN]].to_numpy()                                 # Drop 'ocean_proximity' since it is not numerical value\n",
    "inputs.shape, targets.shape"
   ]
  },
  {
   "cell_type": "code",
   "execution_count": 12,
   "metadata": {},
   "outputs": [
    {
     "data": {
      "text/plain": [
       "(8, 1)"
      ]
     },
     "execution_count": 12,
     "metadata": {},
     "output_type": "execute_result"
    }
   ],
   "source": [
    "input_size = inputs.shape[1]  # 8\n",
    "output_size = targets.shape[1]  # 1\n",
    "input_size, output_size"
   ]
  },
  {
   "cell_type": "markdown",
   "metadata": {},
   "source": [
    "We have separated the input and target variables, because we are going to operate on them separately. Also, we have created numpy arrays, because this is typically how you would work with training data: read some CSV files as numpy arrays, do some processing, and then convert them to PyTorch tensors. Since PyTorch only be able to perform operations using tensors, we should convert all input and target arrays to tensors and create a tensor dataset. "
   ]
  },
  {
   "cell_type": "code",
   "execution_count": 13,
   "metadata": {},
   "outputs": [],
   "source": [
    "inputs = torch.from_numpy(inputs)\n",
    "inputs = inputs.float()\n",
    "targets = torch.from_numpy(targets)\n",
    "targets = targets.float()"
   ]
  },
  {
   "cell_type": "markdown",
   "metadata": {},
   "source": [
    "We are normalizing the data for better results."
   ]
  },
  {
   "cell_type": "code",
   "execution_count": 14,
   "metadata": {},
   "outputs": [],
   "source": [
    "inputs_mean = torch.mean(inputs, axis=0)\n",
    "targets_mean = torch.mean(targets, axis=0)\n",
    "inputs = inputs / inputs_mean  # Noramalize\n",
    "#targets = targets / targets_mean  # Normalize"
   ]
  },
  {
   "cell_type": "markdown",
   "metadata": {},
   "source": [
    "## Linear Regression Model from Scratch\n",
    "\n",
    "The weights and biases (`w11, w12,... w23, b1 & b2`) can also be represented as matrices, initialized as random values. The first row of `w` and the first element of `b` are used to predict the target variable median house value."
   ]
  },
  {
   "cell_type": "code",
   "execution_count": 13,
   "metadata": {},
   "outputs": [
    {
     "data": {
      "text/plain": [
       "(tensor([[ 1.2403, -0.7097,  1.0364,  0.6800,  0.0442,  1.6242, -0.5536,  1.0774]],\n",
       "        requires_grad=True),\n",
       " torch.Size([1, 8]),\n",
       " tensor([1.7892], requires_grad=True),\n",
       " torch.Size([1]))"
      ]
     },
     "execution_count": 13,
     "metadata": {},
     "output_type": "execute_result"
    }
   ],
   "source": [
    "w = torch.randn(output_size, input_size, requires_grad=True)  # Weights\n",
    "b = torch.randn(output_size, requires_grad=True)  # Biases\n",
    "w, w.shape, b, b.shape"
   ]
  },
  {
   "cell_type": "markdown",
   "metadata": {},
   "source": [
    "`torch.randn` creates a tensor with the given shape, with elements picked randomly from a [normal distribution](https://en.wikipedia.org/wiki/Normal_distribution) with mean of 0 and standard deviation of 1.\n",
    "\n",
    "Our *model* is simply a function that performs a matrix multiplication of the `inputs` and the weights `w` (transposed) and adds the bias `b` (replicated for each observation).\n",
    "\n",
    "![matrix-mult](https://i.imgur.com/WGXLFvA.png)\n",
    "\n",
    "We can define the model as follows:"
   ]
  },
  {
   "cell_type": "code",
   "execution_count": 14,
   "metadata": {},
   "outputs": [],
   "source": [
    "def model(x):\n",
    "    return x @ w.t() + b"
   ]
  },
  {
   "cell_type": "markdown",
   "metadata": {},
   "source": [
    "`@` represents matrix multiplication in PyTorch, and the `t()` method returns the transpose of a tensor. The matrix obtained by passing the input data into the model is a set of predictions for the target variables. \n",
    "\n",
    "Let's compare the predictions of our model with the actual targets."
   ]
  },
  {
   "cell_type": "code",
   "execution_count": 15,
   "metadata": {},
   "outputs": [
    {
     "data": {
      "text/plain": [
       "(tensor([[6.5685],\n",
       "         [8.7706],\n",
       "         [6.9684],\n",
       "         ...,\n",
       "         [4.6388],\n",
       "         [4.4046],\n",
       "         [5.2690]], grad_fn=<AddBackward0>),\n",
       " tensor([[452600.],\n",
       "         [358500.],\n",
       "         [352100.],\n",
       "         ...,\n",
       "         [ 92300.],\n",
       "         [ 84700.],\n",
       "         [ 89400.]]))"
      ]
     },
     "execution_count": 15,
     "metadata": {},
     "output_type": "execute_result"
    }
   ],
   "source": [
    "# Generate predictions\n",
    "predictions = model(inputs)\n",
    "predictions, targets # Compare with targets"
   ]
  },
  {
   "cell_type": "markdown",
   "metadata": {},
   "source": [
    "You can see that there's a huge difference between the predictions of our model, and the actual values of the target variables. Obviously, this is because we've initialized our model with random weights and biases, and we can't expect it to *just work*."
   ]
  },
  {
   "cell_type": "markdown",
   "metadata": {},
   "source": [
    "## Loss Function\n",
    "\n",
    "Before we improve our model, we need a way to evaluate how well our model is performing. We can compare the model's predictions with the actual targets, using the following method:\n",
    "\n",
    "* Calculate the difference between the two matrices (`predictions` and `targets`).\n",
    "* Square all elements of the difference matrix to remove negative values.\n",
    "* Calculate the average of the elements in the resulting matrix.\n",
    "\n",
    "The result is a single number, known as the **mean squared error** (MSE)."
   ]
  },
  {
   "cell_type": "code",
   "execution_count": 16,
   "metadata": {},
   "outputs": [],
   "source": [
    "# MSE loss\n",
    "def mse(t1, t2):\n",
    "    diff = t1 - t2\n",
    "    return torch.sum(diff ** 2) / diff.numel()"
   ]
  },
  {
   "cell_type": "markdown",
   "metadata": {},
   "source": [
    "`torch.sum` returns the sum of all the elements in a tensor, and the `.numel` method returns the number of elements in a tensor. Let's compute the mean squared error for the current predictions of our model."
   ]
  },
  {
   "cell_type": "code",
   "execution_count": 17,
   "metadata": {},
   "outputs": [
    {
     "data": {
      "text/plain": [
       "tensor(5.6115e+10, grad_fn=<DivBackward0>)"
      ]
     },
     "execution_count": 17,
     "metadata": {},
     "output_type": "execute_result"
    }
   ],
   "source": [
    "# Compute loss\n",
    "loss = mse(predictions, targets)\n",
    "loss"
   ]
  },
  {
   "cell_type": "markdown",
   "metadata": {},
   "source": [
    "Here’s how we can interpret the result: *On average, each element in the prediction differs from the actual target by about 145 (square root of the loss 20834)*. And that’s pretty bad, considering the numbers we are trying to predict are themselves in the range 50–200. Also, the result is called the *loss*, because it indicates how bad the model is at predicting the target variables. Lower the loss, better the model."
   ]
  },
  {
   "cell_type": "markdown",
   "metadata": {},
   "source": [
    "## Compute Gradients\n",
    "\n",
    "With PyTorch, we can automatically compute the gradient or derivative of the loss w.r.t. to the weights and biases, because they have `requires_grad` set to `True`."
   ]
  },
  {
   "cell_type": "code",
   "execution_count": 18,
   "metadata": {},
   "outputs": [],
   "source": [
    "# Compute gradients\n",
    "loss.backward()"
   ]
  },
  {
   "cell_type": "markdown",
   "metadata": {},
   "source": [
    "The gradients are stored in the `.grad` property of the respective tensors. Note that the derivative of the loss w.r.t. the weights matrix is itself a matrix, with the same dimensions."
   ]
  },
  {
   "cell_type": "code",
   "execution_count": 19,
   "metadata": {},
   "outputs": [
    {
     "name": "stdout",
     "output_type": "stream",
     "text": [
      "tensor([[ 1.2403, -0.7097,  1.0364,  0.6800,  0.0442,  1.6242, -0.5536,  1.0774]],\n",
      "       requires_grad=True)\n",
      "tensor([[-413892.0312, -411714.4375, -424521.8750, -439220.0000, -422701.0000,\n",
      "         -409069.4375, -425182.3125, -491683.0938]])\n"
     ]
    }
   ],
   "source": [
    "# Gradients for weights\n",
    "print(w)\n",
    "print(w.grad)"
   ]
  },
  {
   "cell_type": "markdown",
   "metadata": {},
   "source": [
    "The loss is a [quadratic function](https://en.wikipedia.org/wiki/Quadratic_function) of our weights and biases, and our objective is to find the set of weights where the loss is the lowest. If we plot a graph of the loss w.r.t any individual weight or bias element, it will look like the figure shown below. A key insight from calculus is that the gradient indicates the rate of change of the loss, or the [slope](https://en.wikipedia.org/wiki/Slope) of the loss function w.r.t. the weights and biases.\n",
    "\n",
    "If a gradient element is **positive**:\n",
    "* **increasing** the element's value slightly will **increase** the loss.\n",
    "* **decreasing** the element's value slightly will **decrease** the loss\n",
    "\n",
    "![postive-gradient](https://i.imgur.com/hFYoVgU.png)\n",
    "\n",
    "If a gradient element is **negative**:\n",
    "* **increasing** the element's value slightly will **decrease** the loss.\n",
    "* **decreasing** the element's value slightly will **increase** the loss.\n",
    "\n",
    "![negative=gradient](https://i.imgur.com/w3Wii7C.png)\n",
    "\n",
    "The increase or decrease in loss by changing a weight element is proportional to the value of the gradient of the loss w.r.t. that element. This forms the basis for the optimization algorithm that we'll use to improve our model."
   ]
  },
  {
   "cell_type": "markdown",
   "metadata": {},
   "source": [
    "Before we proceed, we reset the gradients to zero by calling `.zero_()` method. We need to do this, because PyTorch accumulates, gradients i.e. the next time we call `.backward` on the loss, the new gradient values will get added to the existing gradient values, which may lead to unexpected results."
   ]
  },
  {
   "cell_type": "code",
   "execution_count": 20,
   "metadata": {},
   "outputs": [
    {
     "name": "stdout",
     "output_type": "stream",
     "text": [
      "tensor([[0., 0., 0., 0., 0., 0., 0., 0.]])\n",
      "tensor([0.])\n"
     ]
    }
   ],
   "source": [
    "w.grad.zero_()\n",
    "b.grad.zero_()\n",
    "print(w.grad)\n",
    "print(b.grad)"
   ]
  },
  {
   "cell_type": "markdown",
   "metadata": {},
   "source": [
    "## Adjust Weights and Biases Using Gradient Descent\n",
    "\n",
    "We'll reduce the loss and improve our model using the gradient descent optimization algorithm, which has the following steps:\n",
    "\n",
    "1. Generate predictions\n",
    "\n",
    "2. Calculate the loss\n",
    "\n",
    "3. Compute gradients w.r.t the weights and biases\n",
    "\n",
    "4. Adjust the weights by subtracting a small quantity proportional to the gradient\n",
    "\n",
    "5. Reset the gradients to zero\n",
    "\n",
    "Let's implement the above step by step."
   ]
  },
  {
   "cell_type": "code",
   "execution_count": 21,
   "metadata": {},
   "outputs": [
    {
     "data": {
      "text/plain": [
       "tensor([[6.5685],\n",
       "        [8.7706],\n",
       "        [6.9684],\n",
       "        ...,\n",
       "        [4.6388],\n",
       "        [4.4046],\n",
       "        [5.2690]], grad_fn=<AddBackward0>)"
      ]
     },
     "execution_count": 21,
     "metadata": {},
     "output_type": "execute_result"
    }
   ],
   "source": [
    "# Generate predictions\n",
    "predictions = model(inputs)\n",
    "predictions"
   ]
  },
  {
   "cell_type": "markdown",
   "metadata": {},
   "source": [
    "Note that the predictions are same as before, since we haven't made any changes to our model. The same holds true for the loss and gradients."
   ]
  },
  {
   "cell_type": "code",
   "execution_count": 22,
   "metadata": {},
   "outputs": [
    {
     "data": {
      "text/plain": [
       "tensor(5.6115e+10, grad_fn=<DivBackward0>)"
      ]
     },
     "execution_count": 22,
     "metadata": {},
     "output_type": "execute_result"
    }
   ],
   "source": [
    "# Calculate the loss\n",
    "loss = mse(predictions, targets)\n",
    "loss"
   ]
  },
  {
   "cell_type": "code",
   "execution_count": 23,
   "metadata": {},
   "outputs": [
    {
     "data": {
      "text/plain": [
       "(tensor([[-413892.0312, -411714.4375, -424521.8750, -439220.0000, -422701.0000,\n",
       "          -409069.4375, -425182.3125, -491683.0938]]),\n",
       " tensor([-413716.2812]))"
      ]
     },
     "execution_count": 23,
     "metadata": {},
     "output_type": "execute_result"
    }
   ],
   "source": [
    "# Compute gradients\n",
    "loss.backward()\n",
    "w.grad, b.grad"
   ]
  },
  {
   "cell_type": "markdown",
   "metadata": {},
   "source": [
    "Finally, we update the weights and biases using the gradients computed above."
   ]
  },
  {
   "cell_type": "code",
   "execution_count": 24,
   "metadata": {},
   "outputs": [],
   "source": [
    "# Adjust weights & reset gradients\n",
    "with torch.no_grad():\n",
    "    w -= w.grad * learning_rate\n",
    "    b -= b.grad * learning_rate\n",
    "    w.grad.zero_()\n",
    "    b.grad.zero_()"
   ]
  },
  {
   "cell_type": "markdown",
   "metadata": {},
   "source": [
    "A few things to note above:\n",
    "\n",
    "* We use `torch.no_grad` to indicate to PyTorch that we shouldn't track, calculate or modify gradients while updating the weights and biases. \n",
    "\n",
    "* We multiply the gradients with a really small number (`10^-5` in this case), to ensure that we don't modify the weights by a really large amount, since we only want to take a small step in the downhill direction of the gradient. This number is called the *learning rate* of the algorithm. \n",
    "\n",
    "* After we have updated the weights, we reset the gradients back to zero, to avoid affecting any future computations."
   ]
  },
  {
   "cell_type": "markdown",
   "metadata": {},
   "source": [
    "Let's take a look at the new weights and biases."
   ]
  },
  {
   "cell_type": "code",
   "execution_count": 25,
   "metadata": {},
   "outputs": [
    {
     "data": {
      "text/plain": [
       "(tensor([[42.6295, 40.4617, 43.4885, 44.6020, 42.3143, 42.5311, 41.9646, 50.2457]],\n",
       "        requires_grad=True),\n",
       " tensor([43.1608], requires_grad=True))"
      ]
     },
     "execution_count": 25,
     "metadata": {},
     "output_type": "execute_result"
    }
   ],
   "source": [
    "w, b"
   ]
  },
  {
   "cell_type": "markdown",
   "metadata": {},
   "source": [
    "With the new weights and biases, the model should have lower loss."
   ]
  },
  {
   "cell_type": "code",
   "execution_count": 26,
   "metadata": {},
   "outputs": [
    {
     "data": {
      "text/plain": [
       "tensor(5.5950e+10, grad_fn=<DivBackward0>)"
      ]
     },
     "execution_count": 26,
     "metadata": {},
     "output_type": "execute_result"
    }
   ],
   "source": [
    "# Calculate loss\n",
    "predictions = model(inputs)\n",
    "loss = mse(predictions, targets)\n",
    "loss"
   ]
  },
  {
   "cell_type": "markdown",
   "metadata": {},
   "source": [
    "We have already achieved a significant reduction in the loss, simply by adjusting the weights and biases slightly using gradient descent."
   ]
  },
  {
   "cell_type": "markdown",
   "metadata": {},
   "source": [
    "## Train for Multiple Epochs\n",
    "\n",
    "To reduce the loss further, we can repeat the process of adjusting the weights and biases using the gradients multiple times. Each iteration is called an epoch. Let's train the model for 100 epochs."
   ]
  },
  {
   "cell_type": "code",
   "execution_count": 27,
   "metadata": {},
   "outputs": [],
   "source": [
    "# Train for 1000 epochs\n",
    "for i in range(1000):\n",
    "    preds = model(inputs)\n",
    "    loss = mse(preds, targets)\n",
    "    loss.backward()\n",
    "    with torch.no_grad():\n",
    "        w -= w.grad * learning_rate\n",
    "        b -= b.grad * learning_rate\n",
    "        w.grad.zero_()\n",
    "        b.grad.zero_()"
   ]
  },
  {
   "cell_type": "markdown",
   "metadata": {},
   "source": [
    "Once again, let's verify that the loss is now lower:"
   ]
  },
  {
   "cell_type": "code",
   "execution_count": 28,
   "metadata": {},
   "outputs": [
    {
     "data": {
      "text/plain": [
       "tensor(1.4193e+10, grad_fn=<DivBackward0>)"
      ]
     },
     "execution_count": 28,
     "metadata": {},
     "output_type": "execute_result"
    }
   ],
   "source": [
    "# Calculate loss\n",
    "predictions = model(inputs)\n",
    "loss = mse(predictions, targets)\n",
    "loss"
   ]
  },
  {
   "cell_type": "markdown",
   "metadata": {},
   "source": [
    "As you can see, the loss is now much lower than what we started out with. Let's look at the model's predictions and compare them with the targets."
   ]
  },
  {
   "cell_type": "code",
   "execution_count": 29,
   "metadata": {},
   "outputs": [
    {
     "data": {
      "text/plain": [
       "tensor([[163203.4219],\n",
       "        [268699.8125],\n",
       "        [172851.0312],\n",
       "        ...,\n",
       "        [136624.5000],\n",
       "        [128510.8281],\n",
       "        [154556.9688]], grad_fn=<AddBackward0>)"
      ]
     },
     "execution_count": 29,
     "metadata": {},
     "output_type": "execute_result"
    }
   ],
   "source": [
    "# Predictions\n",
    "predictions"
   ]
  },
  {
   "cell_type": "code",
   "execution_count": 30,
   "metadata": {},
   "outputs": [
    {
     "data": {
      "text/plain": [
       "tensor([[452600.],\n",
       "        [358500.],\n",
       "        [352100.],\n",
       "        ...,\n",
       "        [ 92300.],\n",
       "        [ 84700.],\n",
       "        [ 89400.]])"
      ]
     },
     "execution_count": 30,
     "metadata": {},
     "output_type": "execute_result"
    }
   ],
   "source": [
    "# Targets\n",
    "targets"
   ]
  },
  {
   "cell_type": "markdown",
   "metadata": {},
   "source": [
    "The prediction are now quite close to the target variables, and we can get even better results by training for a few more epochs. "
   ]
  },
  {
   "cell_type": "markdown",
   "metadata": {},
   "source": [
    "## Linear Regression Using PyTorch Built-ins\n",
    "\n",
    "The model and training process above were implemented using basic matrix operations. But since this such a common pattern , PyTorch has several built-in functions and classes to make it easy to create and train models."
   ]
  },
  {
   "cell_type": "markdown",
   "metadata": {},
   "source": [
    "## Splitting Data into Batches of Data\n",
    "\n",
    "We already created a `TensorDataset`, which allows access to rows from `inputs` and `targets` as tuples, and provides standard APIs for working with many different types of datasets in PyTorch."
   ]
  },
  {
   "cell_type": "markdown",
   "metadata": {},
   "source": [
    "The `TensorDataset` allows us to access a small section of the training data using the array indexing notation (`[0:3]` in the above code). It returns a tuple (or pair), in which the first element contains the input variables for the selected rows, and the second contains the targets."
   ]
  },
  {
   "cell_type": "code",
   "execution_count": 15,
   "metadata": {},
   "outputs": [
    {
     "data": {
      "text/plain": [
       "(tensor([[1.0222, 1.0631, 1.4319, 0.3338, 0.2398, 0.2260, 0.2523, 2.1506],\n",
       "         [1.0222, 1.0625, 0.7334, 2.6926, 2.0563, 1.6850, 2.2786, 2.1444]]),\n",
       " tensor([[452600.],\n",
       "         [358500.]]))"
      ]
     },
     "execution_count": 15,
     "metadata": {},
     "output_type": "execute_result"
    }
   ],
   "source": [
    "# Define dataset\n",
    "dataset = TensorDataset(inputs, targets)\n",
    "dataset[0:2]"
   ]
  },
  {
   "cell_type": "markdown",
   "metadata": {},
   "source": [
    "We'll also create a `DataLoader`, which can split the data into batches of a predefined size while training. It also provides other utilities like shuffling and random sampling of the data."
   ]
  },
  {
   "cell_type": "code",
   "execution_count": 16,
   "metadata": {},
   "outputs": [],
   "source": [
    "# Define data loader\n",
    "train_loader = DataLoader(dataset, batch_size, shuffle=True)"
   ]
  },
  {
   "cell_type": "markdown",
   "metadata": {},
   "source": [
    "The data loader is typically used in a `for-in` loop. Let's look at an example."
   ]
  },
  {
   "cell_type": "code",
   "execution_count": 17,
   "metadata": {},
   "outputs": [
    {
     "name": "stdout",
     "output_type": "stream",
     "text": [
      "tensor([[0.9892, 0.9573, 1.6065, 0.4385, 0.3774, 0.3607, 0.4265, 1.0854],\n",
      "        [1.0242, 1.0605, 1.8161, 0.9038, 0.8868, 0.6948, 0.9291, 1.0252],\n",
      "        [1.0238, 1.0611, 1.8161, 0.4984, 0.5894, 0.3319, 0.5006, 1.1230],\n",
      "        [0.9897, 0.9561, 1.8161, 1.2042, 1.9652, 1.1186, 1.9963, 0.8206],\n",
      "        [1.0109, 1.1658, 0.7334, 0.4138, 0.3867, 0.4632, 0.3764, 0.5766],\n",
      "        [0.9955, 0.9918, 1.2573, 1.3177, 1.1992, 1.1783, 1.2334, 0.7041],\n",
      "        [0.9880, 0.9480, 1.0827, 1.1527, 1.3739, 0.8414, 1.3956, 0.9618],\n",
      "        [0.9804, 0.9191, 0.7334, 0.7775, 1.1304, 0.7937, 1.1012, 0.6401],\n",
      "        [0.9894, 0.9558, 0.8033, 0.9528, 2.2366, 2.6106, 2.2385, 0.4623],\n",
      "        [0.9957, 0.9643, 1.6764, 0.5534, 0.6024, 0.6330, 0.7008, 0.6247],\n",
      "        [0.9850, 0.9488, 0.8033, 0.7533, 0.5169, 0.5797, 0.5206, 2.0085],\n",
      "        [1.0218, 1.0597, 1.7462, 0.4502, 0.4852, 0.6365, 0.4926, 0.5032],\n",
      "        [0.9967, 0.9587, 0.4191, 0.1745, 0.1878, 0.2842, 0.2062, 1.3635],\n",
      "        [1.0230, 1.0647, 1.6415, 0.7248, 0.5261, 0.4891, 0.5506, 1.6200],\n",
      "        [0.9796, 0.9182, 1.5018, 0.8193, 0.9370, 0.8569, 0.9050, 0.6412],\n",
      "        [0.9899, 0.9533, 0.6286, 0.4870, 0.5261, 0.6948, 0.5787, 1.0379],\n",
      "        [0.9844, 0.9575, 0.6985, 4.2670, 3.5194, 3.4752, 3.7222, 1.4669],\n",
      "        [1.0130, 1.0588, 1.3970, 0.4271, 0.4090, 0.4681, 0.4705, 0.8565],\n",
      "        [1.0200, 1.0468, 0.8033, 1.5323, 1.5673, 1.5306, 1.6879, 1.0437],\n",
      "        [1.0204, 1.0496, 0.4889, 1.8361, 2.1009, 0.5705, 1.0352, 0.9716],\n",
      "        [0.9783, 0.9182, 0.5239, 1.5964, 1.2642, 1.3432, 1.2835, 1.1659],\n",
      "        [0.9826, 0.9525, 0.9779, 1.0571, 0.9110, 1.1818, 0.9351, 1.0399],\n",
      "        [1.0219, 1.0594, 0.9779, 0.3247, 0.3514, 0.3053, 0.3244, 0.2070],\n",
      "        [0.9979, 1.0190, 0.7334, 0.8758, 0.7883, 0.7348, 0.9070, 0.7720],\n",
      "        [0.9916, 0.9612, 0.6985, 1.7747, 1.1322, 1.3650, 1.2194, 2.2596],\n",
      "        [0.9861, 0.9564, 1.1525, 0.8818, 0.8404, 0.8211, 0.8910, 0.9461],\n",
      "        [1.0274, 1.0768, 0.5588, 0.6683, 0.5447, 0.5684, 0.5947, 1.1479],\n",
      "        [0.9915, 0.9595, 1.0827, 0.7040, 0.6879, 0.6948, 0.7208, 1.1277],\n",
      "        [0.9791, 0.9138, 0.3143, 1.3837, 1.6640, 2.3110, 1.6819, 0.8006],\n",
      "        [1.0229, 1.0642, 0.4191, 0.7188, 1.1155, 0.6899, 1.0392, 0.6458],\n",
      "        [0.9807, 0.9208, 0.8731, 0.7874, 1.0895, 0.7439, 1.1093, 0.7342],\n",
      "        [0.9887, 0.9530, 1.1176, 0.8466, 1.1211, 1.6569, 1.2174, 0.6708],\n",
      "        [0.9884, 0.9544, 1.3621, 0.1221, 0.1525, 0.2239, 0.1802, 0.6810],\n",
      "        [0.9884, 0.9514, 0.8731, 0.6482, 0.8218, 0.8260, 0.8209, 0.6286],\n",
      "        [1.0205, 1.0485, 0.7334, 0.9372, 1.2587, 1.0428, 1.3796, 1.0084],\n",
      "        [1.0205, 1.0381, 1.0477, 0.8177, 0.9054, 0.7179, 0.9170, 0.7201],\n",
      "        [0.9789, 0.9247, 0.5937, 1.8259, 2.0284, 2.1145, 2.1584, 0.8362],\n",
      "        [1.0143, 1.0855, 0.5588, 1.3150, 1.1434, 1.0372, 1.2034, 0.9687],\n",
      "        [0.9975, 0.9960, 1.3621, 1.0047, 1.0635, 1.2737, 1.0952, 0.6079],\n",
      "        [0.9951, 0.9890, 1.3970, 0.1070, 0.1097, 0.1495, 0.1422, 0.6071],\n",
      "        [0.9914, 0.9595, 1.1525, 0.8363, 0.8422, 0.8716, 0.8390, 1.0674],\n",
      "        [0.9900, 0.9601, 1.1874, 0.8617, 1.0374, 1.5187, 0.9691, 0.9595],\n",
      "        [0.9894, 0.9528, 0.9430, 0.6729, 0.8255, 1.1383, 0.8049, 0.5691],\n",
      "        [0.9913, 0.9665, 0.6636, 1.1428, 0.9426, 0.9516, 0.9691, 1.3216],\n",
      "        [1.0071, 0.9808, 1.8161, 0.5276, 0.5336, 0.4435, 0.5526, 0.4503],\n",
      "        [0.9808, 0.9587, 1.2224, 0.7692, 0.8478, 0.6821, 0.7969, 0.6142],\n",
      "        [1.0205, 1.0372, 1.8161, 0.2939, 0.5671, 0.7397, 0.6107, 0.5211],\n",
      "        [1.0230, 1.0754, 0.9080, 1.0279, 0.9259, 1.0099, 0.9691, 1.2916],\n",
      "        [1.0019, 1.0333, 0.8382, 2.0394, 1.8685, 1.4106, 1.9662, 0.8923],\n",
      "        [0.9899, 0.9603, 1.2922, 0.5735, 0.6470, 1.0843, 0.7028, 0.9729],\n",
      "        [1.0200, 1.0532, 0.8033, 0.8401, 0.8831, 0.8969, 0.9851, 1.1096],\n",
      "        [0.9904, 0.9631, 1.0477, 1.1481, 1.1229, 1.3825, 1.1813, 1.1213],\n",
      "        [1.0256, 1.0734, 0.6985, 1.3123, 1.1192, 1.1979, 1.1373, 0.9588],\n",
      "        [0.9803, 0.9528, 0.1746, 3.1872, 2.3054, 2.7805, 2.3026, 1.3478],\n",
      "        [0.9859, 0.9491, 0.8382, 0.4809, 0.3904, 0.4912, 0.4485, 1.3072],\n",
      "        [0.9904, 0.9542, 1.1525, 0.4320, 0.5559, 0.5151, 0.5146, 0.8449],\n",
      "        [1.0181, 1.0819, 1.1874, 0.8720, 1.0765, 0.9123, 1.0732, 0.4245],\n",
      "        [0.9962, 0.9937, 0.4191, 2.1199, 1.7495, 2.1180, 1.8361, 1.1511],\n",
      "        [0.9881, 0.9561, 1.5367, 0.6167, 0.7121, 0.7460, 0.6688, 0.6290],\n",
      "        [1.0185, 1.0574, 0.5937, 1.1804, 1.6212, 0.9769, 1.3615, 0.7807],\n",
      "        [1.0258, 1.0799, 0.5588, 1.0332, 1.1025, 0.7888, 1.1733, 0.7298],\n",
      "        [1.0173, 1.0291, 0.9779, 0.0971, 0.1227, 0.1502, 0.1201, 0.7801],\n",
      "        [0.9898, 0.9525, 1.2224, 0.5503, 0.8087, 1.3250, 0.8410, 0.7352],\n",
      "        [0.9866, 0.9539, 0.7683, 2.0042, 1.8257, 1.8338, 1.8661, 1.2227]])\n",
      "tensor([[352100.],\n",
      "        [483300.],\n",
      "        [500001.],\n",
      "        [225000.],\n",
      "        [ 34600.],\n",
      "        [ 71900.],\n",
      "        [500001.],\n",
      "        [165000.],\n",
      "        [322200.],\n",
      "        [189900.],\n",
      "        [380000.],\n",
      "        [ 89500.],\n",
      "        [167400.],\n",
      "        [267700.],\n",
      "        [140600.],\n",
      "        [195800.],\n",
      "        [239500.],\n",
      "        [125900.],\n",
      "        [303400.],\n",
      "        [137500.],\n",
      "        [158300.],\n",
      "        [127100.],\n",
      "        [ 81800.],\n",
      "        [ 87500.],\n",
      "        [419900.],\n",
      "        [217100.],\n",
      "        [305000.],\n",
      "        [223800.],\n",
      "        [142600.],\n",
      "        [195800.],\n",
      "        [227800.],\n",
      "        [170900.],\n",
      "        [148800.],\n",
      "        [155000.],\n",
      "        [243800.],\n",
      "        [245000.],\n",
      "        [167800.],\n",
      "        [147300.],\n",
      "        [ 65400.],\n",
      "        [ 91700.],\n",
      "        [203700.],\n",
      "        [175700.],\n",
      "        [ 96900.],\n",
      "        [233200.],\n",
      "        [131500.],\n",
      "        [ 90700.],\n",
      "        [112500.],\n",
      "        [175200.],\n",
      "        [121200.],\n",
      "        [160300.],\n",
      "        [218800.],\n",
      "        [156000.],\n",
      "        [181900.],\n",
      "        [155500.],\n",
      "        [216200.],\n",
      "        [325000.],\n",
      "        [148500.],\n",
      "        [ 96900.],\n",
      "        [220700.],\n",
      "        [172500.],\n",
      "        [186200.],\n",
      "        [137500.],\n",
      "        [149100.],\n",
      "        [289900.]])\n"
     ]
    }
   ],
   "source": [
    "for xb, yb in train_loader:\n",
    "    print(xb)\n",
    "    print(yb)\n",
    "    break"
   ]
  },
  {
   "cell_type": "markdown",
   "metadata": {},
   "source": [
    "In each iteration, the data loader returns one batch of data, with the given batch size. If `shuffle` is set to `True`, it shuffles the training data before creating batches. Shuffling helps randomize the input to the optimization algorithm, which can lead to faster reduction in the loss."
   ]
  },
  {
   "cell_type": "markdown",
   "metadata": {},
   "source": [
    "## nn.Linear\n",
    "\n",
    "Instead of initializing the weights & biases manually, we can define the model using the `nn.Linear` class from PyTorch, which does it automatically."
   ]
  },
  {
   "cell_type": "code",
   "execution_count": 18,
   "metadata": {},
   "outputs": [
    {
     "name": "stdout",
     "output_type": "stream",
     "text": [
      "Parameter containing:\n",
      "tensor([[-0.2270, -0.3120, -0.3201,  0.3099, -0.1694,  0.2052,  0.1982,  0.0293]],\n",
      "       requires_grad=True)\n",
      "Parameter containing:\n",
      "tensor([-0.1004], requires_grad=True)\n"
     ]
    }
   ],
   "source": [
    "# Define model\n",
    "model = nn.Linear(input_size, output_size)\n",
    "print(model.weight)\n",
    "print(model.bias)"
   ]
  },
  {
   "cell_type": "markdown",
   "metadata": {},
   "source": [
    "PyTorch models also have a helpful `.parameters` method, which returns a list containing all the weights and bias matrices present in the model. For our linear regression model, we have one weight matrix and one bias matrix."
   ]
  },
  {
   "cell_type": "code",
   "execution_count": 19,
   "metadata": {},
   "outputs": [
    {
     "data": {
      "text/plain": [
       "[Parameter containing:\n",
       " tensor([[-0.2270, -0.3120, -0.3201,  0.3099, -0.1694,  0.2052,  0.1982,  0.0293]],\n",
       "        requires_grad=True),\n",
       " Parameter containing:\n",
       " tensor([-0.1004], requires_grad=True)]"
      ]
     },
     "execution_count": 19,
     "metadata": {},
     "output_type": "execute_result"
    }
   ],
   "source": [
    "# Parameters\n",
    "list(model.parameters())"
   ]
  },
  {
   "cell_type": "markdown",
   "metadata": {},
   "source": [
    "We can use the model to generate predictions in the exact same way as before:"
   ]
  },
  {
   "cell_type": "code",
   "execution_count": 20,
   "metadata": {},
   "outputs": [
    {
     "data": {
      "text/plain": [
       "tensor([[-0.9004],\n",
       "        [ 0.4475],\n",
       "        [-0.9361],\n",
       "        ...,\n",
       "        [-0.4239],\n",
       "        [-0.5281],\n",
       "        [-0.2927]], grad_fn=<AddmmBackward0>)"
      ]
     },
     "execution_count": 20,
     "metadata": {},
     "output_type": "execute_result"
    }
   ],
   "source": [
    "# Generate predictions\n",
    "predictions = model(inputs)\n",
    "predictions"
   ]
  },
  {
   "cell_type": "markdown",
   "metadata": {},
   "source": [
    "## Loss Function\n",
    "\n",
    "Instead of defining a loss function manually, we can use the built-in loss function `mse_loss` from `torch.nn.functional`. The `torch.nn.functional` package contains many useful loss functions and several other utilities. "
   ]
  },
  {
   "cell_type": "code",
   "execution_count": 21,
   "metadata": {},
   "outputs": [],
   "source": [
    "# Define loss function\n",
    "criterion = F.mse_loss"
   ]
  },
  {
   "cell_type": "markdown",
   "metadata": {},
   "source": [
    "Let's compute the loss for the current predictions of our model."
   ]
  },
  {
   "cell_type": "code",
   "execution_count": 22,
   "metadata": {},
   "outputs": [
    {
     "data": {
      "text/plain": [
       "tensor(5.6118e+10, grad_fn=<MseLossBackward0>)"
      ]
     },
     "execution_count": 22,
     "metadata": {},
     "output_type": "execute_result"
    }
   ],
   "source": [
    "loss = criterion(model(inputs), targets)\n",
    "loss"
   ]
  },
  {
   "cell_type": "markdown",
   "metadata": {},
   "source": [
    "## Optimizer\n",
    "\n",
    "Instead of manually manipulating the model's weights & biases using gradients, we can use the optimizer `optim.SGD`. SGD stands for `stochastic gradient descent`. It is called `stochastic` because samples are selected in batches (often with random shuffling) instead of as a single group."
   ]
  },
  {
   "cell_type": "code",
   "execution_count": 23,
   "metadata": {},
   "outputs": [],
   "source": [
    "# Define optimizer\n",
    "optimizer = torch.optim.SGD(model.parameters(), lr=learning_rate)"
   ]
  },
  {
   "cell_type": "markdown",
   "metadata": {},
   "source": [
    "Note that `model.parameters()` is passed as an argument to `optim.SGD`, so that the optimizer knows which matrices should be modified during the update step. Also, we can specify a learning rate which controls the amount by which the parameters are modified."
   ]
  },
  {
   "cell_type": "markdown",
   "metadata": {},
   "source": [
    "## Train the Model\n",
    "\n",
    "We are now ready to train the model. We'll follow the exact same process to implement gradient descent:\n",
    "\n",
    "1. Generate predictions\n",
    "\n",
    "2. Calculate the loss\n",
    "\n",
    "3. Compute gradients w.r.t the weights and biases\n",
    "\n",
    "4. Adjust the weights by subtracting a small quantity proportional to the gradient\n",
    "\n",
    "5. Reset the gradients to zero\n",
    "\n",
    "The only change is that we'll work batches of data, instead of processing the entire training data in every iteration. Let's define a utility function `fit` which trains the model for a given number of epochs."
   ]
  },
  {
   "cell_type": "code",
   "execution_count": 24,
   "metadata": {},
   "outputs": [],
   "source": [
    "# Utility function to train the model\n",
    "def fit(num_epochs, model, criterion, optimizer, train_loader):\n",
    "    # Repeat for given number of epochs\n",
    "    for epoch in range(num_epochs):\n",
    "        # Train with batches of data\n",
    "        for xb,yb in train_loader:\n",
    "            # 1. Generate predictions\n",
    "            pred = model(xb)\n",
    "            # 2. Calculate loss\n",
    "            loss = criterion(pred, yb)\n",
    "            # 3. Compute gradients\n",
    "            loss.backward()\n",
    "            # 4. Update parameters using gradients\n",
    "            optimizer.step()\n",
    "            # 5. Reset the gradients to zero\n",
    "            optimizer.zero_grad()\n",
    "        # Print the progress\n",
    "        if (epoch+1) % 10 == 0:\n",
    "            print('Epoch [{}/{}], Loss: {:.4f}'.format(epoch+1, num_epochs, loss.item()))"
   ]
  },
  {
   "cell_type": "markdown",
   "metadata": {},
   "source": [
    "Some things to note above:\n",
    "\n",
    "* We use the data loader defined earlier to get batches of data for every iteration.\n",
    "\n",
    "* Instead of updating parameters (weights and biases) manually, we use `opt.step` to perform the update, and `opt.zero_grad` to reset the gradients to zero.\n",
    "\n",
    "* We've also added a log statement which prints the loss from the last batch of data for every 10th epoch, to track the progress of training. `loss.item` returns the actual value stored in the loss tensor.\n",
    "\n",
    "Let's train the model for 100 epochs."
   ]
  },
  {
   "cell_type": "code",
   "execution_count": 25,
   "metadata": {},
   "outputs": [
    {
     "name": "stdout",
     "output_type": "stream",
     "text": [
      "Epoch [10/100], Loss: 8078630400.0000\n",
      "Epoch [20/100], Loss: 7575344640.0000\n",
      "Epoch [30/100], Loss: 8697461760.0000\n",
      "Epoch [40/100], Loss: 8270370304.0000\n",
      "Epoch [50/100], Loss: 4465376768.0000\n",
      "Epoch [60/100], Loss: 6121881088.0000\n",
      "Epoch [70/100], Loss: 8730179584.0000\n",
      "Epoch [80/100], Loss: 11049099264.0000\n",
      "Epoch [90/100], Loss: 4249438464.0000\n",
      "Epoch [100/100], Loss: 5005634048.0000\n"
     ]
    }
   ],
   "source": [
    "fit(100, model, criterion, optimizer, train_loader)"
   ]
  },
  {
   "cell_type": "markdown",
   "metadata": {},
   "source": [
    "Let's generate predictions using our model and verify that they're close to our targets."
   ]
  },
  {
   "cell_type": "code",
   "execution_count": 42,
   "metadata": {},
   "outputs": [
    {
     "data": {
      "text/plain": [
       "tensor([[367141.8438],\n",
       "        [371599.1562],\n",
       "        [347588.4688],\n",
       "        ...,\n",
       "        [128728.6562],\n",
       "        [135276.8438],\n",
       "        [149707.6875]], grad_fn=<AddmmBackward>)"
      ]
     },
     "execution_count": 42,
     "metadata": {},
     "output_type": "execute_result"
    }
   ],
   "source": [
    "# Generate predictions\n",
    "predictions = model(inputs)\n",
    "predictions"
   ]
  },
  {
   "cell_type": "code",
   "execution_count": 43,
   "metadata": {},
   "outputs": [
    {
     "data": {
      "text/plain": [
       "tensor([[452600.],\n",
       "        [358500.],\n",
       "        [352100.],\n",
       "        ...,\n",
       "        [ 92300.],\n",
       "        [ 84700.],\n",
       "        [ 89400.]])"
      ]
     },
     "execution_count": 43,
     "metadata": {},
     "output_type": "execute_result"
    }
   ],
   "source": [
    "# Compare with targets\n",
    "targets"
   ]
  },
  {
   "cell_type": "markdown",
   "metadata": {},
   "source": [
    "Indeed, the predictions are quite close to our targets, and now we have a fairly good model to predict crop yields for apples and oranges by looking at the average temperature, rainfall and humidity in a region."
   ]
  },
  {
   "cell_type": "markdown",
   "metadata": {},
   "source": [
    "## Further Reading\n",
    "\n",
    "We've covered a lot of ground this this tutorial, including *linear regression* and the *gradient descent* optimization algorithm. Here are a few resources if you'd like to dig deeper into these topics:\n",
    "\n",
    "* For a more detailed explanation of derivates and gradient descent, see [these notes from a Udacity course](https://storage.googleapis.com/supplemental_media/udacityu/315142919/Gradient%20Descent.pdf). \n",
    "\n",
    "* For an animated visualization of how linear regression works, [see this post](https://hackernoon.com/visualizing-linear-regression-with-pytorch-9261f49edb09).\n",
    "\n",
    "* For a more mathematical treatment of matrix calculus, linear regression and gradient descent, you should check out [Andrew Ng's excellent course notes](https://github.com/Cleo-Stanford-CS/CS229_Notes/blob/master/lectures/cs229-notes1.pdf) from CS229 at Stanford University.\n",
    "\n",
    "* To practice and test your skills, you can participate in the [Boston Housing Price Prediction](https://www.kaggle.com/c/boston-housing) competition on Kaggle, a website that hosts data science competitions."
   ]
  },
  {
   "cell_type": "markdown",
   "metadata": {},
   "source": [
    "## Reference Links\n",
    "* Official documentation for torch.Tensor: https://pytorch.org/docs/stable/tensors.html\n",
    "* PyTorch Zero to GANs Course: http://zerotogans.com/\n",
    "* https://jovian.ml/aakashns/02-linear-regression\n",
    "* https://hackernoon.com/visualizing-linear-regression-with-pytorch-9261f49edb09\n",
    "\n",
    "Special thanks to Jovian.ml team and freeCodeCamp.org!"
   ]
  },
  {
   "cell_type": "markdown",
   "metadata": {},
   "source": [
    "With this, we complete our discussion of linear regression in PyTorch, and we’re ready to move on to the next topic: *Logistic regression*."
   ]
  }
 ],
 "metadata": {
  "kernelspec": {
   "display_name": "Python 3",
   "language": "python",
   "name": "python3"
  },
  "language_info": {
   "codemirror_mode": {
    "name": "ipython",
    "version": 3
   },
   "file_extension": ".py",
   "mimetype": "text/x-python",
   "name": "python",
   "nbconvert_exporter": "python",
   "pygments_lexer": "ipython3",
   "version": "3.11.5"
  }
 },
 "nbformat": 4,
 "nbformat_minor": 4
}
